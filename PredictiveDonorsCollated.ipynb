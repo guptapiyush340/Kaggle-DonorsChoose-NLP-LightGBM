{
 "cells": [
  {
   "cell_type": "markdown",
   "metadata": {
    "colab_type": "text",
    "id": "4k5SlWvWnEeP",
    "toc": true
   },
   "source": [
    "<h1>Table of Contents<span class=\"tocSkip\"></span></h1>\n",
    "<div class=\"toc\"><ul class=\"toc-item\"><li><span><a href=\"#Setting-up-environment-and-reading-files\" data-toc-modified-id=\"Setting-up-environment-and-reading-files-1\"><span class=\"toc-item-num\">1&nbsp;&nbsp;</span>Setting up environment and reading files</a></span><ul class=\"toc-item\"><li><span><a href=\"#Setting-up-variables\" data-toc-modified-id=\"Setting-up-variables-1.1\"><span class=\"toc-item-num\">1.1&nbsp;&nbsp;</span>Setting up variables</a></span></li></ul></li><li><span><a href=\"#Reading-data-files\" data-toc-modified-id=\"Reading-data-files-2\"><span class=\"toc-item-num\">2&nbsp;&nbsp;</span>Reading data files</a></span><ul class=\"toc-item\"><li><span><a href=\"#Feature-engineering-for-resources-file\" data-toc-modified-id=\"Feature-engineering-for-resources-file-2.1\"><span class=\"toc-item-num\">2.1&nbsp;&nbsp;</span>Feature engineering for resources file</a></span></li><li><span><a href=\"#Append-train-and-test,-then-merged-with-resources-file\" data-toc-modified-id=\"Append-train-and-test,-then-merged-with-resources-file-2.2\"><span class=\"toc-item-num\">2.2&nbsp;&nbsp;</span>Append train and test, then merged with resources file</a></span></li></ul></li><li><span><a href=\"#Feature-engineering\" data-toc-modified-id=\"Feature-engineering-3\"><span class=\"toc-item-num\">3&nbsp;&nbsp;</span>Feature engineering</a></span><ul class=\"toc-item\"><li><span><a href=\"#Datetime-Features\" data-toc-modified-id=\"Datetime-Features-3.1\"><span class=\"toc-item-num\">3.1&nbsp;&nbsp;</span>Datetime Features</a></span></li><li><span><a href=\"#Features-related-to-teacher-and-school\" data-toc-modified-id=\"Features-related-to-teacher-and-school-3.2\"><span class=\"toc-item-num\">3.2&nbsp;&nbsp;</span>Features related to teacher and school</a></span><ul class=\"toc-item\"><li><span><a href=\"#How-much-money-has-been-awarded-to-a-teacher-before-this-application?\" data-toc-modified-id=\"How-much-money-has-been-awarded-to-a-teacher-before-this-application?-3.2.1\"><span class=\"toc-item-num\">3.2.1&nbsp;&nbsp;</span>How much money has been awarded to a teacher before this application?</a></span></li><li><span><a href=\"#What-%-of-this-teacher's-projects-got-approved-before-this-application?\" data-toc-modified-id=\"What-%-of-this-teacher's-projects-got-approved-before-this-application?-3.2.2\"><span class=\"toc-item-num\">3.2.2&nbsp;&nbsp;</span>What % of this teacher's projects got approved before this application?</a></span></li></ul></li><li><span><a href=\"#Text-Features\" data-toc-modified-id=\"Text-Features-3.3\"><span class=\"toc-item-num\">3.3&nbsp;&nbsp;</span>Text Features</a></span><ul class=\"toc-item\"><li><span><a href=\"#Created-Binary-variable-for-4-essays-vs-2-essays\" data-toc-modified-id=\"Created-Binary-variable-for-4-essays-vs-2-essays-3.3.1\"><span class=\"toc-item-num\">3.3.1&nbsp;&nbsp;</span>Created Binary variable for 4 essays vs 2 essays</a></span></li><li><span><a href=\"#Extract-text-related-features:\" data-toc-modified-id=\"Extract-text-related-features:-3.3.2\"><span class=\"toc-item-num\">3.3.2&nbsp;&nbsp;</span>Extract text related features:</a></span></li><li><span><a href=\"#Sentiment-Analysis\" data-toc-modified-id=\"Sentiment-Analysis-3.3.3\"><span class=\"toc-item-num\">3.3.3&nbsp;&nbsp;</span>Sentiment Analysis</a></span></li><li><span><a href=\"#TF-IDF\" data-toc-modified-id=\"TF-IDF-3.3.4\"><span class=\"toc-item-num\">3.3.4&nbsp;&nbsp;</span>TF-IDF</a></span></li></ul></li><li><span><a href=\"#Categorical-features\" data-toc-modified-id=\"Categorical-features-3.4\"><span class=\"toc-item-num\">3.4&nbsp;&nbsp;</span>Categorical features</a></span></li><li><span><a href=\"#Standardize-features\" data-toc-modified-id=\"Standardize-features-3.5\"><span class=\"toc-item-num\">3.5&nbsp;&nbsp;</span>Standardize features</a></span></li><li><span><a href=\"#Modelling\" data-toc-modified-id=\"Modelling-3.6\"><span class=\"toc-item-num\">3.6&nbsp;&nbsp;</span>Modelling</a></span></li></ul></li></ul></div>"
   ]
  },
  {
   "cell_type": "markdown",
   "metadata": {
    "colab_type": "text",
    "id": "9GE4x6-TnEeT"
   },
   "source": [
    "## Setting up environment and reading files"
   ]
  },
  {
   "cell_type": "code",
   "execution_count": 2,
   "metadata": {
    "colab": {},
    "colab_type": "code",
    "id": "VNckVHMGnEeU"
   },
   "outputs": [],
   "source": [
    "import numpy as np\n",
    "import pandas as pd\n",
    "import random\n",
    "from sklearn import *\n",
    "from sklearn.feature_extraction.text import TfidfVectorizer, CountVectorizer\n",
    "from sklearn.preprocessing import LabelEncoder\n",
    "from tqdm import tqdm\n",
    "from scipy.sparse import hstack, vstack, csr_matrix\n",
    "from sklearn.linear_model import LogisticRegression\n",
    "from sklearn.preprocessing import StandardScaler\n",
    "from sklearn.metrics import roc_auc_score\n",
    "from sklearn.model_selection import train_test_split\n",
    "from sklearn.model_selection import KFold, RepeatedKFold\n",
    "from sklearn.model_selection import cross_val_score\n",
    "import xgboost as xgb\n",
    "import lightgbm as lgb\n",
    "import nltk\n",
    "from nltk import word_tokenize\n",
    "from nltk.corpus import stopwords\n",
    "from textblob import TextBlob\n",
    "from nltk import punkt\n",
    "import string\n",
    "import re\n",
    "import gc\n",
    "import gensim\n",
    "from gensim.utils import simple_preprocess\n",
    "from gensim.parsing.preprocessing import STOPWORDS\n",
    "from nltk.stem import WordNetLemmatizer, SnowballStemmer\n",
    "from nltk.stem.porter import *\n",
    "import numpy as np\n",
    "import nltk\n",
    "import pandas_profiling\n",
    "import lightgbm as lgb\n",
    "from sklearn.model_selection import RandomizedSearchCV, GridSearchCV\n",
    "from scipy.stats import randint as sp_randint\n",
    "from scipy.stats import uniform as sp_uniform"
   ]
  },
  {
   "cell_type": "markdown",
   "metadata": {
    "colab_type": "text",
    "id": "SF3tMNWAnEeZ"
   },
   "source": [
    "### Setting up variables"
   ]
  },
  {
   "cell_type": "code",
   "execution_count": 3,
   "metadata": {
    "colab": {
     "base_uri": "https://localhost:8080/",
     "height": 87
    },
    "colab_type": "code",
    "id": "8IDylGrRnEea",
    "outputId": "633d0282-3a9c-47c3-e7aa-70aa0809a168"
   },
   "outputs": [
    {
     "name": "stderr",
     "output_type": "stream",
     "text": [
      "[nltk_data] Downloading package stopwords to C:\\Users\\Piyush\n",
      "[nltk_data]     Gupta\\AppData\\Roaming\\nltk_data...\n",
      "[nltk_data]   Package stopwords is already up-to-date!\n",
      "[nltk_data] Downloading package wordnet to C:\\Users\\Piyush\n",
      "[nltk_data]     Gupta\\AppData\\Roaming\\nltk_data...\n",
      "[nltk_data]   Package wordnet is already up-to-date!\n"
     ]
    }
   ],
   "source": [
    "nltk.download('stopwords')\n",
    "nltk.download('wordnet')\n",
    "pd.options.display.max_columns = None\n",
    "stop_words = stopwords.words('english')\n",
    "punctuation = string.punctuation\n",
    "stop_words = list(set(stopwords.words('english')))\n",
    "id_column = \"id\"\n",
    "missing_token = \" UNK \"\n",
    "np.random.seed(2018)"
   ]
  },
  {
   "cell_type": "markdown",
   "metadata": {
    "colab_type": "text",
    "id": "iiTnO9L0nEef"
   },
   "source": [
    "## Reading data files"
   ]
  },
  {
   "cell_type": "code",
   "execution_count": 1,
   "metadata": {
    "colab": {
     "base_uri": "https://localhost:8080/",
     "height": 228
    },
    "colab_type": "code",
    "id": "7chCJz6PnVD6",
    "outputId": "d76da616-7fe6-4a48-dc73-7aa30c759063"
   },
   "outputs": [
    {
     "name": "stdout",
     "output_type": "stream",
     "text": [
      "Requirement already satisfied: kaggle in /usr/local/lib/python3.6/dist-packages (1.5.6)\n",
      "Requirement already satisfied: urllib3<1.25,>=1.21.1 in /usr/local/lib/python3.6/dist-packages (from kaggle) (1.24.3)\n",
      "Requirement already satisfied: python-dateutil in /usr/local/lib/python3.6/dist-packages (from kaggle) (2.6.1)\n",
      "Requirement already satisfied: tqdm in /usr/local/lib/python3.6/dist-packages (from kaggle) (4.28.1)\n",
      "Requirement already satisfied: requests in /usr/local/lib/python3.6/dist-packages (from kaggle) (2.21.0)\n",
      "Requirement already satisfied: python-slugify in /usr/local/lib/python3.6/dist-packages (from kaggle) (4.0.0)\n",
      "Requirement already satisfied: six>=1.10 in /usr/local/lib/python3.6/dist-packages (from kaggle) (1.12.0)\n",
      "Requirement already satisfied: certifi in /usr/local/lib/python3.6/dist-packages (from kaggle) (2019.9.11)\n",
      "Requirement already satisfied: chardet<3.1.0,>=3.0.2 in /usr/local/lib/python3.6/dist-packages (from requests->kaggle) (3.0.4)\n",
      "Requirement already satisfied: idna<2.9,>=2.5 in /usr/local/lib/python3.6/dist-packages (from requests->kaggle) (2.8)\n",
      "Requirement already satisfied: text-unidecode>=1.3 in /usr/local/lib/python3.6/dist-packages (from python-slugify->kaggle) (1.3)\n"
     ]
    }
   ],
   "source": [
    "!pip install kaggle"
   ]
  },
  {
   "cell_type": "code",
   "execution_count": 0,
   "metadata": {
    "colab": {},
    "colab_type": "code",
    "id": "lmTWnqLBnaOW"
   },
   "outputs": [],
   "source": [
    "from google.colab import files"
   ]
  },
  {
   "cell_type": "code",
   "execution_count": 4,
   "metadata": {
    "colab": {
     "base_uri": "https://localhost:8080/",
     "height": 93,
     "resources": {
      "http://localhost:8080/nbextensions/google.colab/files.js": {
       "data": "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",
       "headers": [
        [
         "content-type",
         "application/javascript"
        ]
       ],
       "ok": true,
       "status": 200,
       "status_text": ""
      }
     }
    },
    "colab_type": "code",
    "id": "ac5vOntPnlaX",
    "outputId": "377bd442-bc65-497e-e444-8e1c5e6d4168"
   },
   "outputs": [
    {
     "data": {
      "text/html": [
       "\n",
       "     <input type=\"file\" id=\"files-19c896c5-51dd-4149-861a-f5aa93337306\" name=\"files[]\" multiple disabled />\n",
       "     <output id=\"result-19c896c5-51dd-4149-861a-f5aa93337306\">\n",
       "      Upload widget is only available when the cell has been executed in the\n",
       "      current browser session. Please rerun this cell to enable.\n",
       "      </output>\n",
       "      <script src=\"/nbextensions/google.colab/files.js\"></script> "
      ],
      "text/plain": [
       "<IPython.core.display.HTML object>"
      ]
     },
     "metadata": {
      "tags": []
     },
     "output_type": "display_data"
    },
    {
     "name": "stdout",
     "output_type": "stream",
     "text": [
      "Saving kaggle.json to kaggle.json\n"
     ]
    },
    {
     "data": {
      "text/plain": [
       "{'kaggle.json': b'{\"username\":\"guptapiyush340\",\"key\":\"62df6a18f42c7fa85bf789546fb4c6a4\"}'}"
      ]
     },
     "execution_count": 4,
     "metadata": {
      "tags": []
     },
     "output_type": "execute_result"
    }
   ],
   "source": [
    "files.upload()"
   ]
  },
  {
   "cell_type": "code",
   "execution_count": 0,
   "metadata": {
    "colab": {},
    "colab_type": "code",
    "id": "7JhLWmAonxyq"
   },
   "outputs": [],
   "source": [
    "!mkdir -p ~/.kaggle"
   ]
  },
  {
   "cell_type": "code",
   "execution_count": 0,
   "metadata": {
    "colab": {},
    "colab_type": "code",
    "id": "db9ywonhnxju"
   },
   "outputs": [],
   "source": [
    "!cp kaggle.json ~/.kaggle/"
   ]
  },
  {
   "cell_type": "code",
   "execution_count": 0,
   "metadata": {
    "colab": {},
    "colab_type": "code",
    "id": "IaoKdKdXn-pv"
   },
   "outputs": [],
   "source": [
    "!chmod 600 /root/.kaggle/kaggle.json"
   ]
  },
  {
   "cell_type": "code",
   "execution_count": 8,
   "metadata": {
    "colab": {
     "base_uri": "https://localhost:8080/",
     "height": 263
    },
    "colab_type": "code",
    "id": "gCowGYi7oFD3",
    "outputId": "cd385deb-ee94-46b1-fea8-e87bf5c679c8"
   },
   "outputs": [
    {
     "name": "stdout",
     "output_type": "stream",
     "text": [
      "Warning: Looks like you're using an outdated API Version, please consider updating (server 1.5.6 / client 1.5.4)\n",
      "Downloading sample_submission.zip to /content\n",
      "  0% 0.00/295k [00:00<?, ?B/s]\n",
      "100% 295k/295k [00:00<00:00, 91.4MB/s]\n",
      "Downloading test.zip to /content\n",
      " 91% 42.0M/46.0M [00:00<00:00, 60.1MB/s]\n",
      "100% 46.0M/46.0M [00:00<00:00, 93.6MB/s]\n",
      "Downloading train.zip to /content\n",
      " 92% 99.0M/108M [00:00<00:00, 79.1MB/s]\n",
      "100% 108M/108M [00:00<00:00, 114MB/s]  \n",
      "Downloading resources.zip to /content\n",
      " 52% 21.0M/40.4M [00:00<00:00, 91.8MB/s]\n",
      "100% 40.4M/40.4M [00:00<00:00, 133MB/s] \n"
     ]
    }
   ],
   "source": [
    "!kaggle competitions download -c donorschoose-application-screening"
   ]
  },
  {
   "cell_type": "code",
   "execution_count": 9,
   "metadata": {
    "colab": {
     "base_uri": "https://localhost:8080/",
     "height": 121
    },
    "colab_type": "code",
    "id": "G6gZSELSoL8Z",
    "outputId": "97fe1144-f873-440e-9601-8aaae485bd61"
   },
   "outputs": [
    {
     "name": "stdout",
     "output_type": "stream",
     "text": [
      "Archive:  train.zip\n",
      "  inflating: train.csv               \n",
      "Archive:  test.zip\n",
      "  inflating: test.csv                \n",
      "Archive:  resources.zip\n",
      "  inflating: resources.csv           \n"
     ]
    }
   ],
   "source": [
    "!unzip train.zip\n",
    "!unzip test.zip\n",
    "!unzip resources.zip"
   ]
  },
  {
   "cell_type": "code",
   "execution_count": 14,
   "metadata": {
    "colab": {
     "base_uri": "https://localhost:8080/",
     "height": 72
    },
    "colab_type": "code",
    "id": "xSJ5-48wnEeg",
    "outputId": "6d87f933-a884-42c5-e10d-e0cb6c324f2f"
   },
   "outputs": [
    {
     "name": "stderr",
     "output_type": "stream",
     "text": [
      "/usr/local/lib/python3.6/dist-packages/IPython/core/interactiveshell.py:2718: DtypeWarning: Columns (11,12) have mixed types. Specify dtype option on import or set low_memory=False.\n",
      "  interactivity=interactivity, compiler=compiler, result=result)\n"
     ]
    }
   ],
   "source": [
    "train = pd.read_csv(\"/content/train.csv\", parse_dates=[\"project_submitted_datetime\"])\n",
    "test = pd.read_csv(\"/content/test.csv\", parse_dates=[\"project_submitted_datetime\"])\n",
    "resources = pd.read_csv(\"/content/resources.csv\")"
   ]
  },
  {
   "cell_type": "markdown",
   "metadata": {
    "colab_type": "text",
    "id": "NYVqdxpCnEek"
   },
   "source": [
    "### Feature engineering for resources file\n",
    "Created features for following variables in resources file:\n",
    "1. Price : min, max and mean\n",
    "2. Quantity : min, max and mean\n",
    "3. Items : Number of unique items for that id\n",
    "4. Total Price : Quanity * Price will be total price for that id and mean price for 1 quantity"
   ]
  },
  {
   "cell_type": "code",
   "execution_count": 0,
   "metadata": {
    "colab": {},
    "colab_type": "code",
    "id": "1CrZ2fDjnEel",
    "outputId": "10ee6276-c317-4d14-a6f0-5179d491a16f"
   },
   "outputs": [
    {
     "data": {
      "text/html": [
       "<div>\n",
       "<style scoped>\n",
       "    .dataframe tbody tr th:only-of-type {\n",
       "        vertical-align: middle;\n",
       "    }\n",
       "\n",
       "    .dataframe tbody tr th {\n",
       "        vertical-align: top;\n",
       "    }\n",
       "\n",
       "    .dataframe thead th {\n",
       "        text-align: right;\n",
       "    }\n",
       "</style>\n",
       "<table border=\"1\" class=\"dataframe\">\n",
       "  <thead>\n",
       "    <tr style=\"text-align: right;\">\n",
       "      <th></th>\n",
       "      <th>id</th>\n",
       "      <th>description</th>\n",
       "      <th>quantity</th>\n",
       "      <th>price</th>\n",
       "    </tr>\n",
       "  </thead>\n",
       "  <tbody>\n",
       "    <tr>\n",
       "      <th>0</th>\n",
       "      <td>p233245</td>\n",
       "      <td>LC652 - Lakeshore Double-Space Mobile Drying Rack</td>\n",
       "      <td>1</td>\n",
       "      <td>149.00</td>\n",
       "    </tr>\n",
       "    <tr>\n",
       "      <th>1</th>\n",
       "      <td>p069063</td>\n",
       "      <td>Bouncy Bands for Desks (Blue support pipes)</td>\n",
       "      <td>3</td>\n",
       "      <td>14.95</td>\n",
       "    </tr>\n",
       "    <tr>\n",
       "      <th>2</th>\n",
       "      <td>p069063</td>\n",
       "      <td>Cory Stories: A Kid's Book About Living With Adhd</td>\n",
       "      <td>1</td>\n",
       "      <td>8.45</td>\n",
       "    </tr>\n",
       "    <tr>\n",
       "      <th>3</th>\n",
       "      <td>p069063</td>\n",
       "      <td>Dixon Ticonderoga Wood-Cased #2 HB Pencils, Bo...</td>\n",
       "      <td>2</td>\n",
       "      <td>13.59</td>\n",
       "    </tr>\n",
       "    <tr>\n",
       "      <th>4</th>\n",
       "      <td>p069063</td>\n",
       "      <td>EDUCATIONAL INSIGHTS FLUORESCENT LIGHT FILTERS...</td>\n",
       "      <td>3</td>\n",
       "      <td>24.95</td>\n",
       "    </tr>\n",
       "  </tbody>\n",
       "</table>\n",
       "</div>"
      ],
      "text/plain": [
       "        id                                        description  quantity  \\\n",
       "0  p233245  LC652 - Lakeshore Double-Space Mobile Drying Rack         1   \n",
       "1  p069063        Bouncy Bands for Desks (Blue support pipes)         3   \n",
       "2  p069063  Cory Stories: A Kid's Book About Living With Adhd         1   \n",
       "3  p069063  Dixon Ticonderoga Wood-Cased #2 HB Pencils, Bo...         2   \n",
       "4  p069063  EDUCATIONAL INSIGHTS FLUORESCENT LIGHT FILTERS...         3   \n",
       "\n",
       "    price  \n",
       "0  149.00  \n",
       "1   14.95  \n",
       "2    8.45  \n",
       "3   13.59  \n",
       "4   24.95  "
      ]
     },
     "execution_count": 22,
     "metadata": {
      "tags": []
     },
     "output_type": "execute_result"
    }
   ],
   "source": [
    "resources.head()"
   ]
  },
  {
   "cell_type": "code",
   "execution_count": 15,
   "metadata": {
    "colab": {
     "base_uri": "https://localhost:8080/",
     "height": 426
    },
    "colab_type": "code",
    "id": "BPlECnsunEep",
    "outputId": "ad155e12-a493-4b72-cbaf-5148114535ea"
   },
   "outputs": [
    {
     "data": {
      "text/html": [
       "<div>\n",
       "<style scoped>\n",
       "    .dataframe tbody tr th:only-of-type {\n",
       "        vertical-align: middle;\n",
       "    }\n",
       "\n",
       "    .dataframe tbody tr th {\n",
       "        vertical-align: top;\n",
       "    }\n",
       "\n",
       "    .dataframe thead th {\n",
       "        text-align: right;\n",
       "    }\n",
       "</style>\n",
       "<table border=\"1\" class=\"dataframe\">\n",
       "  <thead>\n",
       "    <tr style=\"text-align: right;\">\n",
       "      <th></th>\n",
       "      <th>items</th>\n",
       "      <th>quantity</th>\n",
       "      <th>price</th>\n",
       "      <th>total_price</th>\n",
       "      <th>min_quantity</th>\n",
       "      <th>min_price</th>\n",
       "      <th>min_total_price</th>\n",
       "      <th>max_quantity</th>\n",
       "      <th>max_price</th>\n",
       "      <th>max_total_price</th>\n",
       "      <th>mean_quantity</th>\n",
       "      <th>mean_price</th>\n",
       "      <th>mean_total_price</th>\n",
       "      <th>resource_description</th>\n",
       "    </tr>\n",
       "    <tr>\n",
       "      <th>id</th>\n",
       "      <th></th>\n",
       "      <th></th>\n",
       "      <th></th>\n",
       "      <th></th>\n",
       "      <th></th>\n",
       "      <th></th>\n",
       "      <th></th>\n",
       "      <th></th>\n",
       "      <th></th>\n",
       "      <th></th>\n",
       "      <th></th>\n",
       "      <th></th>\n",
       "      <th></th>\n",
       "      <th></th>\n",
       "    </tr>\n",
       "  </thead>\n",
       "  <tbody>\n",
       "    <tr>\n",
       "      <th>p000001</th>\n",
       "      <td>4</td>\n",
       "      <td>7</td>\n",
       "      <td>459.56</td>\n",
       "      <td>833.63</td>\n",
       "      <td>1</td>\n",
       "      <td>23.99</td>\n",
       "      <td>47.98</td>\n",
       "      <td>2</td>\n",
       "      <td>261.08</td>\n",
       "      <td>522.16</td>\n",
       "      <td>1.750000</td>\n",
       "      <td>114.890000</td>\n",
       "      <td>208.407500</td>\n",
       "      <td>Cap Barbell 300 Pound Olympic Set, Grey Cap Ba...</td>\n",
       "    </tr>\n",
       "    <tr>\n",
       "      <th>p000002</th>\n",
       "      <td>14</td>\n",
       "      <td>21</td>\n",
       "      <td>515.89</td>\n",
       "      <td>630.28</td>\n",
       "      <td>1</td>\n",
       "      <td>8.46</td>\n",
       "      <td>9.95</td>\n",
       "      <td>4</td>\n",
       "      <td>134.90</td>\n",
       "      <td>134.90</td>\n",
       "      <td>1.500000</td>\n",
       "      <td>36.849286</td>\n",
       "      <td>45.020000</td>\n",
       "      <td>10 Sony Headphones (BUY 9 GET 1 FREE) Belkin 6...</td>\n",
       "    </tr>\n",
       "    <tr>\n",
       "      <th>p000003</th>\n",
       "      <td>4</td>\n",
       "      <td>4</td>\n",
       "      <td>298.97</td>\n",
       "      <td>298.97</td>\n",
       "      <td>1</td>\n",
       "      <td>39.99</td>\n",
       "      <td>39.99</td>\n",
       "      <td>1</td>\n",
       "      <td>169.00</td>\n",
       "      <td>169.00</td>\n",
       "      <td>1.000000</td>\n",
       "      <td>74.742500</td>\n",
       "      <td>74.742500</td>\n",
       "      <td>EE820X - Phonemic Awareness Instant Learning C...</td>\n",
       "    </tr>\n",
       "    <tr>\n",
       "      <th>p000004</th>\n",
       "      <td>95</td>\n",
       "      <td>98</td>\n",
       "      <td>1113.69</td>\n",
       "      <td>1126.22</td>\n",
       "      <td>1</td>\n",
       "      <td>1.60</td>\n",
       "      <td>3.20</td>\n",
       "      <td>2</td>\n",
       "      <td>401.54</td>\n",
       "      <td>401.54</td>\n",
       "      <td>1.031579</td>\n",
       "      <td>11.723053</td>\n",
       "      <td>11.854947</td>\n",
       "      <td>A Bad Case of the Giggles Poems That Will Make...</td>\n",
       "    </tr>\n",
       "    <tr>\n",
       "      <th>p000005</th>\n",
       "      <td>4</td>\n",
       "      <td>8</td>\n",
       "      <td>485.99</td>\n",
       "      <td>702.31</td>\n",
       "      <td>1</td>\n",
       "      <td>54.08</td>\n",
       "      <td>54.08</td>\n",
       "      <td>3</td>\n",
       "      <td>323.75</td>\n",
       "      <td>323.75</td>\n",
       "      <td>2.000000</td>\n",
       "      <td>121.497500</td>\n",
       "      <td>175.577500</td>\n",
       "      <td>Fitbit Zip Wireless Activity Tracker, Lime Fit...</td>\n",
       "    </tr>\n",
       "  </tbody>\n",
       "</table>\n",
       "</div>"
      ],
      "text/plain": [
       "         items  ...                               resource_description\n",
       "id              ...                                                   \n",
       "p000001      4  ...  Cap Barbell 300 Pound Olympic Set, Grey Cap Ba...\n",
       "p000002     14  ...  10 Sony Headphones (BUY 9 GET 1 FREE) Belkin 6...\n",
       "p000003      4  ...  EE820X - Phonemic Awareness Instant Learning C...\n",
       "p000004     95  ...  A Bad Case of the Giggles Poems That Will Make...\n",
       "p000005      4  ...  Fitbit Zip Wireless Activity Tracker, Lime Fit...\n",
       "\n",
       "[5 rows x 14 columns]"
      ]
     },
     "execution_count": 15,
     "metadata": {
      "tags": []
     },
     "output_type": "execute_result"
    }
   ],
   "source": [
    "resources['total_price'] = resources['quantity']*resources['price']\n",
    "agg_rc = resources.groupby('id')\\\n",
    "                    .agg({'description':'count', 'quantity':'sum', 'price':'sum', 'total_price':'sum'})\\\n",
    "                    .rename(columns={'description':'items'})\n",
    "\n",
    "for func in ['min', 'max', 'mean']:\n",
    "    agg_rc_temp = resources.groupby('id')\\\n",
    "                    .agg({'quantity':func, 'price':func, 'total_price':func})\\\n",
    "                    .rename(columns={'quantity':func+'_quantity',\n",
    "                                     'price':func+'_price',\n",
    "                                     'total_price':func+'_total_price'})\\\n",
    "                    .fillna(0)\n",
    "    agg_rc = agg_rc.join(agg_rc_temp)\n",
    "\n",
    "agg_rc = agg_rc.join(resources.groupby('id')\\\n",
    "                     .agg({'description':lambda x:' '\\\n",
    "                           .join(x.values.astype(str))})\\\n",
    "                     .rename(columns={'description':'resource_description'}))\n",
    "\n",
    "agg_rc.head()\n",
    "#agg_rc.to_csv('E:/Studies/MSBA/Fall/MSBA6420_Predictive_Analytics/Project/resources_agg.csv')"
   ]
  },
  {
   "cell_type": "markdown",
   "metadata": {
    "colab_type": "text",
    "id": "sX4-6NQHnEes"
   },
   "source": [
    "### Append train and test, then merged with resources file"
   ]
  },
  {
   "cell_type": "code",
   "execution_count": 0,
   "metadata": {
    "colab": {},
    "colab_type": "code",
    "id": "5STUsGxknEew"
   },
   "outputs": [],
   "source": [
    "train['Ind'] = 'Train'\n",
    "test['project_is_approved'] = 0\n",
    "test['Ind'] = 'Test'\n",
    "df = pd.concat([train, test], axis=0)\n",
    "df = df.join(agg_rc, on='id')\n",
    "del(train,test)"
   ]
  },
  {
   "cell_type": "code",
   "execution_count": 17,
   "metadata": {
    "colab": {
     "base_uri": "https://localhost:8080/",
     "height": 482
    },
    "colab_type": "code",
    "id": "sofMRqT3nEe0",
    "outputId": "4663acee-e159-4ea8-a65b-0a3edf5cd10b"
   },
   "outputs": [
    {
     "data": {
      "text/html": [
       "<div>\n",
       "<style scoped>\n",
       "    .dataframe tbody tr th:only-of-type {\n",
       "        vertical-align: middle;\n",
       "    }\n",
       "\n",
       "    .dataframe tbody tr th {\n",
       "        vertical-align: top;\n",
       "    }\n",
       "\n",
       "    .dataframe thead th {\n",
       "        text-align: right;\n",
       "    }\n",
       "</style>\n",
       "<table border=\"1\" class=\"dataframe\">\n",
       "  <thead>\n",
       "    <tr style=\"text-align: right;\">\n",
       "      <th></th>\n",
       "      <th>id</th>\n",
       "      <th>teacher_id</th>\n",
       "      <th>teacher_prefix</th>\n",
       "      <th>school_state</th>\n",
       "      <th>project_submitted_datetime</th>\n",
       "      <th>project_grade_category</th>\n",
       "      <th>project_subject_categories</th>\n",
       "      <th>project_subject_subcategories</th>\n",
       "      <th>project_title</th>\n",
       "      <th>project_essay_1</th>\n",
       "      <th>project_essay_2</th>\n",
       "      <th>project_essay_3</th>\n",
       "      <th>project_essay_4</th>\n",
       "      <th>project_resource_summary</th>\n",
       "      <th>teacher_number_of_previously_posted_projects</th>\n",
       "      <th>project_is_approved</th>\n",
       "      <th>Ind</th>\n",
       "      <th>items</th>\n",
       "      <th>quantity</th>\n",
       "      <th>price</th>\n",
       "      <th>total_price</th>\n",
       "      <th>min_quantity</th>\n",
       "      <th>min_price</th>\n",
       "      <th>min_total_price</th>\n",
       "      <th>max_quantity</th>\n",
       "      <th>max_price</th>\n",
       "      <th>max_total_price</th>\n",
       "      <th>mean_quantity</th>\n",
       "      <th>mean_price</th>\n",
       "      <th>mean_total_price</th>\n",
       "      <th>resource_description</th>\n",
       "    </tr>\n",
       "  </thead>\n",
       "  <tbody>\n",
       "    <tr>\n",
       "      <th>0</th>\n",
       "      <td>p036502</td>\n",
       "      <td>484aaf11257089a66cfedc9461c6bd0a</td>\n",
       "      <td>Ms.</td>\n",
       "      <td>NV</td>\n",
       "      <td>2016-11-18 14:45:59</td>\n",
       "      <td>Grades PreK-2</td>\n",
       "      <td>Literacy &amp; Language</td>\n",
       "      <td>Literacy</td>\n",
       "      <td>Super Sight Word Centers</td>\n",
       "      <td>Most of my kindergarten students come from low...</td>\n",
       "      <td>I currently have a differentiated sight word c...</td>\n",
       "      <td>NaN</td>\n",
       "      <td>NaN</td>\n",
       "      <td>My students need 6 Ipod Nano's to create and d...</td>\n",
       "      <td>26</td>\n",
       "      <td>1</td>\n",
       "      <td>Train</td>\n",
       "      <td>2</td>\n",
       "      <td>6</td>\n",
       "      <td>299.98</td>\n",
       "      <td>899.94</td>\n",
       "      <td>3</td>\n",
       "      <td>149.99</td>\n",
       "      <td>449.97</td>\n",
       "      <td>3</td>\n",
       "      <td>149.99</td>\n",
       "      <td>449.97</td>\n",
       "      <td>3.0</td>\n",
       "      <td>149.990</td>\n",
       "      <td>449.970</td>\n",
       "      <td>Apple - iPod nano� 16GB MP3 Player (8th Genera...</td>\n",
       "    </tr>\n",
       "    <tr>\n",
       "      <th>1</th>\n",
       "      <td>p039565</td>\n",
       "      <td>df72a3ba8089423fa8a94be88060f6ed</td>\n",
       "      <td>Mrs.</td>\n",
       "      <td>GA</td>\n",
       "      <td>2017-04-26 15:57:28</td>\n",
       "      <td>Grades 3-5</td>\n",
       "      <td>Music &amp; The Arts, Health &amp; Sports</td>\n",
       "      <td>Performing Arts, Team Sports</td>\n",
       "      <td>Keep Calm and Dance On</td>\n",
       "      <td>Our elementary school is a culturally rich sch...</td>\n",
       "      <td>We strive to provide our diverse population of...</td>\n",
       "      <td>NaN</td>\n",
       "      <td>NaN</td>\n",
       "      <td>My students need matching shirts to wear for d...</td>\n",
       "      <td>1</td>\n",
       "      <td>0</td>\n",
       "      <td>Train</td>\n",
       "      <td>1</td>\n",
       "      <td>20</td>\n",
       "      <td>20.00</td>\n",
       "      <td>400.00</td>\n",
       "      <td>20</td>\n",
       "      <td>20.00</td>\n",
       "      <td>400.00</td>\n",
       "      <td>20</td>\n",
       "      <td>20.00</td>\n",
       "      <td>400.00</td>\n",
       "      <td>20.0</td>\n",
       "      <td>20.000</td>\n",
       "      <td>400.000</td>\n",
       "      <td>Reebok Girls' Fashion Dance Graphic T-Shirt - ...</td>\n",
       "    </tr>\n",
       "    <tr>\n",
       "      <th>2</th>\n",
       "      <td>p233823</td>\n",
       "      <td>a9b876a9252e08a55e3d894150f75ba3</td>\n",
       "      <td>Ms.</td>\n",
       "      <td>UT</td>\n",
       "      <td>2017-01-01 22:57:44</td>\n",
       "      <td>Grades 3-5</td>\n",
       "      <td>Math &amp; Science, Literacy &amp; Language</td>\n",
       "      <td>Applied Sciences, Literature &amp; Writing</td>\n",
       "      <td>Lets 3Doodle to Learn</td>\n",
       "      <td>Hello;\\r\\nMy name is Mrs. Brotherton. I teach ...</td>\n",
       "      <td>We are looking to add some 3Doodler to our cla...</td>\n",
       "      <td>NaN</td>\n",
       "      <td>NaN</td>\n",
       "      <td>My students need the 3doodler. We are an SEM s...</td>\n",
       "      <td>5</td>\n",
       "      <td>1</td>\n",
       "      <td>Train</td>\n",
       "      <td>1</td>\n",
       "      <td>1</td>\n",
       "      <td>469.99</td>\n",
       "      <td>469.99</td>\n",
       "      <td>1</td>\n",
       "      <td>469.99</td>\n",
       "      <td>469.99</td>\n",
       "      <td>1</td>\n",
       "      <td>469.99</td>\n",
       "      <td>469.99</td>\n",
       "      <td>1.0</td>\n",
       "      <td>469.990</td>\n",
       "      <td>469.990</td>\n",
       "      <td>3doodler Start Full Edu Bundle</td>\n",
       "    </tr>\n",
       "    <tr>\n",
       "      <th>3</th>\n",
       "      <td>p185307</td>\n",
       "      <td>525fdbb6ec7f538a48beebaa0a51b24f</td>\n",
       "      <td>Mr.</td>\n",
       "      <td>NC</td>\n",
       "      <td>2016-08-12 15:42:11</td>\n",
       "      <td>Grades 3-5</td>\n",
       "      <td>Health &amp; Sports</td>\n",
       "      <td>Health &amp; Wellness</td>\n",
       "      <td>\\\"Kid Inspired\\\" Equipment to Increase Activit...</td>\n",
       "      <td>My students are the greatest students but are ...</td>\n",
       "      <td>The student's project which is totally \\\"kid-i...</td>\n",
       "      <td>NaN</td>\n",
       "      <td>NaN</td>\n",
       "      <td>My students need balls and other activity equi...</td>\n",
       "      <td>16</td>\n",
       "      <td>0</td>\n",
       "      <td>Train</td>\n",
       "      <td>5</td>\n",
       "      <td>5</td>\n",
       "      <td>684.47</td>\n",
       "      <td>684.47</td>\n",
       "      <td>1</td>\n",
       "      <td>18.95</td>\n",
       "      <td>18.95</td>\n",
       "      <td>1</td>\n",
       "      <td>354.99</td>\n",
       "      <td>354.99</td>\n",
       "      <td>1.0</td>\n",
       "      <td>136.894</td>\n",
       "      <td>136.894</td>\n",
       "      <td>BALL PG 4'' POLY SET OF 6 COLORS BALL PLAYGROU...</td>\n",
       "    </tr>\n",
       "    <tr>\n",
       "      <th>4</th>\n",
       "      <td>p013780</td>\n",
       "      <td>a63b5547a7239eae4c1872670848e61a</td>\n",
       "      <td>Mr.</td>\n",
       "      <td>CA</td>\n",
       "      <td>2016-08-06 09:09:11</td>\n",
       "      <td>Grades 6-8</td>\n",
       "      <td>Health &amp; Sports</td>\n",
       "      <td>Health &amp; Wellness</td>\n",
       "      <td>We need clean water for our culinary arts class!</td>\n",
       "      <td>My students are athletes and students who are ...</td>\n",
       "      <td>For some reason in our kitchen the water comes...</td>\n",
       "      <td>NaN</td>\n",
       "      <td>NaN</td>\n",
       "      <td>My students need a water filtration system for...</td>\n",
       "      <td>42</td>\n",
       "      <td>1</td>\n",
       "      <td>Train</td>\n",
       "      <td>1</td>\n",
       "      <td>2</td>\n",
       "      <td>355.50</td>\n",
       "      <td>711.00</td>\n",
       "      <td>2</td>\n",
       "      <td>355.50</td>\n",
       "      <td>711.00</td>\n",
       "      <td>2</td>\n",
       "      <td>355.50</td>\n",
       "      <td>711.00</td>\n",
       "      <td>2.0</td>\n",
       "      <td>355.500</td>\n",
       "      <td>711.000</td>\n",
       "      <td>Crown Berkey Water Filter With 2 Black and 2 P...</td>\n",
       "    </tr>\n",
       "  </tbody>\n",
       "</table>\n",
       "</div>"
      ],
      "text/plain": [
       "        id  ...                               resource_description\n",
       "0  p036502  ...  Apple - iPod nano� 16GB MP3 Player (8th Genera...\n",
       "1  p039565  ...  Reebok Girls' Fashion Dance Graphic T-Shirt - ...\n",
       "2  p233823  ...                     3doodler Start Full Edu Bundle\n",
       "3  p185307  ...  BALL PG 4'' POLY SET OF 6 COLORS BALL PLAYGROU...\n",
       "4  p013780  ...  Crown Berkey Water Filter With 2 Black and 2 P...\n",
       "\n",
       "[5 rows x 31 columns]"
      ]
     },
     "execution_count": 17,
     "metadata": {
      "tags": []
     },
     "output_type": "execute_result"
    }
   ],
   "source": [
    "df.head()"
   ]
  },
  {
   "cell_type": "markdown",
   "metadata": {
    "colab_type": "text",
    "id": "amtTLzw2nEe5"
   },
   "source": [
    "## Feature engineering"
   ]
  },
  {
   "cell_type": "markdown",
   "metadata": {
    "colab_type": "text",
    "id": "yXO1tC6_nEe6"
   },
   "source": [
    "### Datetime Features\n",
    "1. Year\n",
    "2. Month\n",
    "3. Weekday\n",
    "4. Weekend \n",
    "5. Month Day"
   ]
  },
  {
   "cell_type": "code",
   "execution_count": 0,
   "metadata": {
    "colab": {},
    "colab_type": "code",
    "id": "jPuli2ClnEe7"
   },
   "outputs": [],
   "source": [
    "df[\"Year\"] = df[\"project_submitted_datetime\"].dt.year\n",
    "df[\"Month\"] = df[\"project_submitted_datetime\"].dt.month\n",
    "df['Weekday'] = df['project_submitted_datetime'].dt.weekday\n",
    "df[\"Month_Day\"] = df['project_submitted_datetime'].dt.day\n",
    "df[\"Weekend_Flag\"]=np.where((df['Weekday']==5) |(df['Weekday']==6),1,0)"
   ]
  },
  {
   "cell_type": "markdown",
   "metadata": {
    "colab_type": "text",
    "id": "I8cwaTtinEe-"
   },
   "source": [
    "### Features related to teacher and school"
   ]
  },
  {
   "cell_type": "markdown",
   "metadata": {
    "colab_type": "text",
    "id": "_NTwfAODnEe_"
   },
   "source": [
    "#### How much money has been awarded to a teacher before this application?"
   ]
  },
  {
   "cell_type": "code",
   "execution_count": 0,
   "metadata": {
    "colab": {},
    "colab_type": "code",
    "id": "HoqNLvCSnEe_"
   },
   "outputs": [],
   "source": [
    "#Setting up a dummy\n",
    "testDf = df.copy()\n",
    "testDf.loc[testDf['Ind']=='train', 'Ind'] =0 \n",
    "testDf.loc[testDf['Ind']=='test', 'Ind'] =1\n",
    "testDf.loc[testDf['Ind']==1, 'project_is_approved'] = 0\n",
    "\n",
    "testDf['approvedValue'] = testDf['total_price'] * testDf['project_is_approved']\n",
    "num =  (testDf.groupby(['teacher_id', 'project_submitted_datetime'])['approvedValue'].sum().groupby(level = [0]).shift(1).cumsum())\n",
    "numdf = num.reset_index()\n",
    "#numdf[0].replace(np.nan, 0, inplace=True)\n",
    "numdf['approvedValue'] = numdf.groupby(['teacher_id'])['approvedValue'].shift(1).replace(np.nan, 0)\n",
    "\n",
    "#Join it with main table\n",
    "df = df.merge(numdf, on=['teacher_id', 'project_submitted_datetime'])"
   ]
  },
  {
   "cell_type": "code",
   "execution_count": 20,
   "metadata": {
    "colab": {
     "base_uri": "https://localhost:8080/",
     "height": 482
    },
    "colab_type": "code",
    "id": "OW-VF3KGnEfC",
    "outputId": "84230087-aeb1-47be-9aae-e90bc8c36537"
   },
   "outputs": [
    {
     "data": {
      "text/html": [
       "<div>\n",
       "<style scoped>\n",
       "    .dataframe tbody tr th:only-of-type {\n",
       "        vertical-align: middle;\n",
       "    }\n",
       "\n",
       "    .dataframe tbody tr th {\n",
       "        vertical-align: top;\n",
       "    }\n",
       "\n",
       "    .dataframe thead th {\n",
       "        text-align: right;\n",
       "    }\n",
       "</style>\n",
       "<table border=\"1\" class=\"dataframe\">\n",
       "  <thead>\n",
       "    <tr style=\"text-align: right;\">\n",
       "      <th></th>\n",
       "      <th>id</th>\n",
       "      <th>teacher_id</th>\n",
       "      <th>teacher_prefix</th>\n",
       "      <th>school_state</th>\n",
       "      <th>project_submitted_datetime</th>\n",
       "      <th>project_grade_category</th>\n",
       "      <th>project_subject_categories</th>\n",
       "      <th>project_subject_subcategories</th>\n",
       "      <th>project_title</th>\n",
       "      <th>project_essay_1</th>\n",
       "      <th>project_essay_2</th>\n",
       "      <th>project_essay_3</th>\n",
       "      <th>project_essay_4</th>\n",
       "      <th>project_resource_summary</th>\n",
       "      <th>teacher_number_of_previously_posted_projects</th>\n",
       "      <th>project_is_approved</th>\n",
       "      <th>Ind</th>\n",
       "      <th>items</th>\n",
       "      <th>quantity</th>\n",
       "      <th>price</th>\n",
       "      <th>total_price</th>\n",
       "      <th>min_quantity</th>\n",
       "      <th>min_price</th>\n",
       "      <th>min_total_price</th>\n",
       "      <th>max_quantity</th>\n",
       "      <th>max_price</th>\n",
       "      <th>max_total_price</th>\n",
       "      <th>mean_quantity</th>\n",
       "      <th>mean_price</th>\n",
       "      <th>mean_total_price</th>\n",
       "      <th>resource_description</th>\n",
       "      <th>Year</th>\n",
       "      <th>Month</th>\n",
       "      <th>Weekday</th>\n",
       "      <th>Month_Day</th>\n",
       "      <th>Weekend_Flag</th>\n",
       "      <th>approvedValue</th>\n",
       "    </tr>\n",
       "  </thead>\n",
       "  <tbody>\n",
       "    <tr>\n",
       "      <th>0</th>\n",
       "      <td>p036502</td>\n",
       "      <td>484aaf11257089a66cfedc9461c6bd0a</td>\n",
       "      <td>Ms.</td>\n",
       "      <td>NV</td>\n",
       "      <td>2016-11-18 14:45:59</td>\n",
       "      <td>Grades PreK-2</td>\n",
       "      <td>Literacy &amp; Language</td>\n",
       "      <td>Literacy</td>\n",
       "      <td>Super Sight Word Centers</td>\n",
       "      <td>Most of my kindergarten students come from low...</td>\n",
       "      <td>I currently have a differentiated sight word c...</td>\n",
       "      <td>NaN</td>\n",
       "      <td>NaN</td>\n",
       "      <td>My students need 6 Ipod Nano's to create and d...</td>\n",
       "      <td>26</td>\n",
       "      <td>1</td>\n",
       "      <td>Train</td>\n",
       "      <td>2</td>\n",
       "      <td>6</td>\n",
       "      <td>299.98</td>\n",
       "      <td>899.94</td>\n",
       "      <td>3</td>\n",
       "      <td>149.99</td>\n",
       "      <td>449.97</td>\n",
       "      <td>3</td>\n",
       "      <td>149.99</td>\n",
       "      <td>449.97</td>\n",
       "      <td>3.0</td>\n",
       "      <td>149.990</td>\n",
       "      <td>449.970</td>\n",
       "      <td>Apple - iPod nano� 16GB MP3 Player (8th Genera...</td>\n",
       "      <td>2016</td>\n",
       "      <td>11</td>\n",
       "      <td>4</td>\n",
       "      <td>18</td>\n",
       "      <td>0</td>\n",
       "      <td>11102621.33</td>\n",
       "    </tr>\n",
       "    <tr>\n",
       "      <th>1</th>\n",
       "      <td>p039565</td>\n",
       "      <td>df72a3ba8089423fa8a94be88060f6ed</td>\n",
       "      <td>Mrs.</td>\n",
       "      <td>GA</td>\n",
       "      <td>2017-04-26 15:57:28</td>\n",
       "      <td>Grades 3-5</td>\n",
       "      <td>Music &amp; The Arts, Health &amp; Sports</td>\n",
       "      <td>Performing Arts, Team Sports</td>\n",
       "      <td>Keep Calm and Dance On</td>\n",
       "      <td>Our elementary school is a culturally rich sch...</td>\n",
       "      <td>We strive to provide our diverse population of...</td>\n",
       "      <td>NaN</td>\n",
       "      <td>NaN</td>\n",
       "      <td>My students need matching shirts to wear for d...</td>\n",
       "      <td>1</td>\n",
       "      <td>0</td>\n",
       "      <td>Train</td>\n",
       "      <td>1</td>\n",
       "      <td>20</td>\n",
       "      <td>20.00</td>\n",
       "      <td>400.00</td>\n",
       "      <td>20</td>\n",
       "      <td>20.00</td>\n",
       "      <td>400.00</td>\n",
       "      <td>20</td>\n",
       "      <td>20.00</td>\n",
       "      <td>400.00</td>\n",
       "      <td>20.0</td>\n",
       "      <td>20.000</td>\n",
       "      <td>400.000</td>\n",
       "      <td>Reebok Girls' Fashion Dance Graphic T-Shirt - ...</td>\n",
       "      <td>2017</td>\n",
       "      <td>4</td>\n",
       "      <td>2</td>\n",
       "      <td>26</td>\n",
       "      <td>0</td>\n",
       "      <td>0.00</td>\n",
       "    </tr>\n",
       "    <tr>\n",
       "      <th>2</th>\n",
       "      <td>p233823</td>\n",
       "      <td>a9b876a9252e08a55e3d894150f75ba3</td>\n",
       "      <td>Ms.</td>\n",
       "      <td>UT</td>\n",
       "      <td>2017-01-01 22:57:44</td>\n",
       "      <td>Grades 3-5</td>\n",
       "      <td>Math &amp; Science, Literacy &amp; Language</td>\n",
       "      <td>Applied Sciences, Literature &amp; Writing</td>\n",
       "      <td>Lets 3Doodle to Learn</td>\n",
       "      <td>Hello;\\r\\nMy name is Mrs. Brotherton. I teach ...</td>\n",
       "      <td>We are looking to add some 3Doodler to our cla...</td>\n",
       "      <td>NaN</td>\n",
       "      <td>NaN</td>\n",
       "      <td>My students need the 3doodler. We are an SEM s...</td>\n",
       "      <td>5</td>\n",
       "      <td>1</td>\n",
       "      <td>Train</td>\n",
       "      <td>1</td>\n",
       "      <td>1</td>\n",
       "      <td>469.99</td>\n",
       "      <td>469.99</td>\n",
       "      <td>1</td>\n",
       "      <td>469.99</td>\n",
       "      <td>469.99</td>\n",
       "      <td>1</td>\n",
       "      <td>469.99</td>\n",
       "      <td>469.99</td>\n",
       "      <td>1.0</td>\n",
       "      <td>469.990</td>\n",
       "      <td>469.990</td>\n",
       "      <td>3doodler Start Full Edu Bundle</td>\n",
       "      <td>2017</td>\n",
       "      <td>1</td>\n",
       "      <td>6</td>\n",
       "      <td>1</td>\n",
       "      <td>1</td>\n",
       "      <td>26350156.08</td>\n",
       "    </tr>\n",
       "    <tr>\n",
       "      <th>3</th>\n",
       "      <td>p185307</td>\n",
       "      <td>525fdbb6ec7f538a48beebaa0a51b24f</td>\n",
       "      <td>Mr.</td>\n",
       "      <td>NC</td>\n",
       "      <td>2016-08-12 15:42:11</td>\n",
       "      <td>Grades 3-5</td>\n",
       "      <td>Health &amp; Sports</td>\n",
       "      <td>Health &amp; Wellness</td>\n",
       "      <td>\\\"Kid Inspired\\\" Equipment to Increase Activit...</td>\n",
       "      <td>My students are the greatest students but are ...</td>\n",
       "      <td>The student's project which is totally \\\"kid-i...</td>\n",
       "      <td>NaN</td>\n",
       "      <td>NaN</td>\n",
       "      <td>My students need balls and other activity equi...</td>\n",
       "      <td>16</td>\n",
       "      <td>0</td>\n",
       "      <td>Train</td>\n",
       "      <td>5</td>\n",
       "      <td>5</td>\n",
       "      <td>684.47</td>\n",
       "      <td>684.47</td>\n",
       "      <td>1</td>\n",
       "      <td>18.95</td>\n",
       "      <td>18.95</td>\n",
       "      <td>1</td>\n",
       "      <td>354.99</td>\n",
       "      <td>354.99</td>\n",
       "      <td>1.0</td>\n",
       "      <td>136.894</td>\n",
       "      <td>136.894</td>\n",
       "      <td>BALL PG 4'' POLY SET OF 6 COLORS BALL PLAYGROU...</td>\n",
       "      <td>2016</td>\n",
       "      <td>8</td>\n",
       "      <td>4</td>\n",
       "      <td>12</td>\n",
       "      <td>0</td>\n",
       "      <td>12599720.68</td>\n",
       "    </tr>\n",
       "    <tr>\n",
       "      <th>4</th>\n",
       "      <td>p013780</td>\n",
       "      <td>a63b5547a7239eae4c1872670848e61a</td>\n",
       "      <td>Mr.</td>\n",
       "      <td>CA</td>\n",
       "      <td>2016-08-06 09:09:11</td>\n",
       "      <td>Grades 6-8</td>\n",
       "      <td>Health &amp; Sports</td>\n",
       "      <td>Health &amp; Wellness</td>\n",
       "      <td>We need clean water for our culinary arts class!</td>\n",
       "      <td>My students are athletes and students who are ...</td>\n",
       "      <td>For some reason in our kitchen the water comes...</td>\n",
       "      <td>NaN</td>\n",
       "      <td>NaN</td>\n",
       "      <td>My students need a water filtration system for...</td>\n",
       "      <td>42</td>\n",
       "      <td>1</td>\n",
       "      <td>Train</td>\n",
       "      <td>1</td>\n",
       "      <td>2</td>\n",
       "      <td>355.50</td>\n",
       "      <td>711.00</td>\n",
       "      <td>2</td>\n",
       "      <td>355.50</td>\n",
       "      <td>711.00</td>\n",
       "      <td>2</td>\n",
       "      <td>355.50</td>\n",
       "      <td>711.00</td>\n",
       "      <td>2.0</td>\n",
       "      <td>355.500</td>\n",
       "      <td>711.000</td>\n",
       "      <td>Crown Berkey Water Filter With 2 Black and 2 P...</td>\n",
       "      <td>2016</td>\n",
       "      <td>8</td>\n",
       "      <td>5</td>\n",
       "      <td>6</td>\n",
       "      <td>1</td>\n",
       "      <td>25667613.43</td>\n",
       "    </tr>\n",
       "  </tbody>\n",
       "</table>\n",
       "</div>"
      ],
      "text/plain": [
       "        id                        teacher_id  ... Weekend_Flag approvedValue\n",
       "0  p036502  484aaf11257089a66cfedc9461c6bd0a  ...            0   11102621.33\n",
       "1  p039565  df72a3ba8089423fa8a94be88060f6ed  ...            0          0.00\n",
       "2  p233823  a9b876a9252e08a55e3d894150f75ba3  ...            1   26350156.08\n",
       "3  p185307  525fdbb6ec7f538a48beebaa0a51b24f  ...            0   12599720.68\n",
       "4  p013780  a63b5547a7239eae4c1872670848e61a  ...            1   25667613.43\n",
       "\n",
       "[5 rows x 37 columns]"
      ]
     },
     "execution_count": 20,
     "metadata": {
      "tags": []
     },
     "output_type": "execute_result"
    }
   ],
   "source": [
    "df.head()"
   ]
  },
  {
   "cell_type": "markdown",
   "metadata": {
    "colab_type": "text",
    "id": "J6W3iDv1nEfI"
   },
   "source": [
    "### Text Features"
   ]
  },
  {
   "cell_type": "markdown",
   "metadata": {
    "colab_type": "text",
    "id": "eWG73cspnEfJ"
   },
   "source": [
    "#### Created Binary variable for 4 essays vs 2 essays\n",
    "There are applications with 4 essays and 2 essays due to change in application process. In order to account for that change, we have created a binary variable or flag to indicate if application has 4 essays or 2 essays."
   ]
  },
  {
   "cell_type": "code",
   "execution_count": 0,
   "metadata": {
    "colab": {},
    "colab_type": "code",
    "id": "QJthjkqJnEfK"
   },
   "outputs": [],
   "source": [
    "df['four_essays'] = 1\n",
    "df.loc[pd.isnull(df.project_essay_3), 'four_essays'] = 0"
   ]
  },
  {
   "cell_type": "code",
   "execution_count": 0,
   "metadata": {
    "colab": {},
    "colab_type": "code",
    "id": "BUrxjCfInEfM"
   },
   "outputs": [],
   "source": [
    "def merge_essays_one(x):\n",
    "    essay_one = ''\n",
    "    if (x.project_essay_3 is None or not isinstance(x.project_essay_3,str)) and (x.project_essay_4 is None or not isinstance(x.project_essay_4,str)):\n",
    "        essay_one  = essay_one+x.project_essay_1\n",
    "    else:\n",
    "        essay_one  = essay_one+str(x.project_essay_1)+' '+str(x.project_essay_2)\n",
    "    return essay_one\n",
    "\n",
    "df['project_essay_1'] = df.apply(merge_essays_one,axis=1)"
   ]
  },
  {
   "cell_type": "code",
   "execution_count": 0,
   "metadata": {
    "colab": {},
    "colab_type": "code",
    "id": "gYqBlnVSnEfP"
   },
   "outputs": [],
   "source": [
    "def merge_essays_two(x):\n",
    "    essay_two = ''\n",
    "    if (x.project_essay_3 is None or not isinstance(x.project_essay_3,str)) and (x.project_essay_4 is None or not isinstance(x.project_essay_4,str)):\n",
    "        essay_two  = essay_two+x.project_essay_2\n",
    "    else:\n",
    "        essay_two  = essay_two+str(x.project_essay_3)+' '+str(x.project_essay_4)\n",
    "    return essay_two\n",
    "\n",
    "df['project_essay_2'] = df.apply(merge_essays_two,axis=1)"
   ]
  },
  {
   "cell_type": "markdown",
   "metadata": {
    "colab_type": "text",
    "id": "m6Bc07SAnEfV"
   },
   "source": [
    "#### Extract text related features:\n",
    "1. Character count\n",
    "2. Word count\n",
    "3. Punctutation count\n",
    "4. Title Word count\n",
    "5. Word density\n",
    "6. Uppercase word count\n",
    "7. Stopword count"
   ]
  },
  {
   "cell_type": "code",
   "execution_count": 0,
   "metadata": {
    "colab": {},
    "colab_type": "code",
    "id": "OQ9z_bJynEfW"
   },
   "outputs": [],
   "source": [
    "df.fillna(value = {'project_essay_3': \" \", \"project_essay_4\": \" \"}, inplace=True)\n",
    "df['text'] = df.apply(lambda row: ' '.join([\n",
    "    str(row['project_essay_1']),\n",
    "    str(row['project_essay_2']),\n",
    "    str(row['project_essay_3']),\n",
    "    str(row['project_essay_4']),\n",
    "    str(row['project_resource_summary']),\n",
    "    str(row['project_title']),\n",
    "    str(row['resource_description'])]), axis=1)\n",
    "\n",
    "# extract features from text\n",
    "df['char_count'] = df['text'].apply(len)\n",
    "df['word_count'] = df['text'].apply(lambda x: len(x.split()))\n",
    "df['word_density'] = df['char_count'] / (df['word_count']+1)\n",
    "df['punctuation_count'] = df['text'].apply(lambda x: len(\"\".join(_ for _ in x if _ in punctuation)))\n",
    "df['title_word_count'] = df['text'].apply(lambda x: len([wrd for wrd in x.split() if wrd.istitle()]))\n",
    "df['upper_case_word_count'] = df['text'].apply(lambda x: len([wrd for wrd in x.split() if wrd.isupper()]))\n",
    "df['stopword_count'] = df['text'].apply(lambda x: len([wrd for wrd in x.split() if wrd.lower() in stop_words]))"
   ]
  },
  {
   "cell_type": "markdown",
   "metadata": {
    "colab_type": "text",
    "id": "hpIY6ceanEfj"
   },
   "source": [
    "#### Sentiment Analysis\n",
    "1. Polarity : Title, Summary, Essay1 and Essay2\n",
    "2. Subjectivity : Title, Summary, Essay1 and Essay2"
   ]
  },
  {
   "cell_type": "code",
   "execution_count": 0,
   "metadata": {
    "colab": {},
    "colab_type": "code",
    "id": "AF7OymEcnEfj"
   },
   "outputs": [],
   "source": [
    "df['title_len'] = df['project_title'].apply(lambda x: len(x.split()))\n",
    "df['e1_len'] = df['project_essay_1'].apply(lambda x: len(x.split()))\n",
    "df['e2_len'] = df['project_essay_2'].apply(lambda x: len(x.split()))\n",
    "df['ressum_len'] = df['project_resource_summary'].apply(lambda x: len(x.split()))"
   ]
  },
  {
   "cell_type": "code",
   "execution_count": 0,
   "metadata": {
    "colab": {},
    "colab_type": "code",
    "id": "WBdD4S8DnEfm"
   },
   "outputs": [],
   "source": [
    "#Project Title - Length, Sentiment\n",
    "#df['title_len'] = df['project_title'].apply(len)\n",
    "df['title_polarity'] = df['project_title'].apply(lambda x: TextBlob(x).polarity)\n",
    "df['title_subjectivity'] = df['project_title'].apply(lambda x: TextBlob(x).subjectivity)"
   ]
  },
  {
   "cell_type": "code",
   "execution_count": 0,
   "metadata": {
    "colab": {},
    "colab_type": "code",
    "id": "4nlTs8PVnEfo"
   },
   "outputs": [],
   "source": [
    "#Resource - Length, Sentiment\n",
    "df['ressum_polarity'] = df['project_resource_summary'].apply(lambda x: TextBlob(x).polarity)\n",
    "df['ressum_subjectivity'] = df['project_resource_summary'].apply(lambda x: TextBlob(x).subjectivity)"
   ]
  },
  {
   "cell_type": "code",
   "execution_count": 0,
   "metadata": {
    "colab": {},
    "colab_type": "code",
    "id": "YSuiPQ9-nEfs"
   },
   "outputs": [],
   "source": [
    "#Project Essay - Length, Sentiment\n",
    "df['e1_polarity'] = df['project_essay_1'].apply(lambda x: TextBlob(x).polarity)\n",
    "df['e1_subjectivity'] = df['project_essay_1'].apply(lambda x: TextBlob(x).subjectivity)\n",
    "df['e2_polarity'] = df['project_essay_2'].apply(lambda x: TextBlob(x).polarity)\n",
    "df['e2_subjectivity'] = df['project_essay_2'].apply(lambda x: TextBlob(x).subjectivity)"
   ]
  },
  {
   "cell_type": "markdown",
   "metadata": {
    "colab_type": "text",
    "id": "a4dkt1YonEfv"
   },
   "source": [
    "#### TF-IDF"
   ]
  },
  {
   "cell_type": "code",
   "execution_count": 38,
   "metadata": {
    "colab": {
     "base_uri": "https://localhost:8080/",
     "height": 139
    },
    "colab_type": "code",
    "id": "1Y-KE0EKnEfw",
    "outputId": "e7a3db25-caf1-4116-e3a4-0469e5ac3f54"
   },
   "outputs": [
    {
     "name": "stdout",
     "output_type": "stream",
     "text": [
      "processing:  project_essay_1\n",
      "processing:  project_essay_2\n",
      "processing:  project_resource_summary\n",
      "processing:  resource_description\n",
      "processing:  project_title\n",
      "CPU times: user 25min 57s, sys: 4.8 s, total: 26min 2s\n",
      "Wall time: 26min 3s\n"
     ]
    }
   ],
   "source": [
    "%%time\n",
    "from nltk.stem.wordnet import WordNetLemmatizer\n",
    "from autocorrect import spell  # as spell checker and corrector\n",
    "L = WordNetLemmatizer()\n",
    "p = PorterStemmer()\n",
    "def wordPreProcess(sentence):\n",
    "    return ' '.join([p.stem(x.lower()) for x in re.split('\\W', sentence) if len(x) >= 1])\n",
    "\n",
    "def getTextFeatures(T, Col, max_features=10000, ngrams=(1,2), verbose=True):\n",
    "    if verbose:\n",
    "        print('processing: ', Col)\n",
    "    vectorizer = CountVectorizer(stop_words=None,\n",
    "                                 preprocessor=wordPreProcess,\n",
    "                                 max_features=max_features,\n",
    "                                 binary=True,\n",
    "                                 ngram_range=ngrams)\n",
    "    X = vectorizer.fit_transform(T[Col])\n",
    "    return X, vectorizer.get_feature_names()\n",
    "\n",
    "n_es1, n_es2, n_prs, n_rd, n_pt = 3000, 8000, 2000, 3000, 1000\n",
    "X_es1, feat_es1 = getTextFeatures(df, 'project_essay_1', max_features=n_es1)\n",
    "X_es2, feat_es2 = getTextFeatures(df, 'project_essay_2', max_features=n_es2)\n",
    "X_prs, feat_prs = getTextFeatures(df, 'project_resource_summary', max_features=n_prs)\n",
    "X_rd, feat_rd = getTextFeatures(df, 'resource_description', max_features=n_rd, ngrams=(1,3))\n",
    "X_pt, feat_pt = getTextFeatures(df, 'project_title', max_features=n_pt)\n",
    "\n",
    "X_txt = hstack((X_es1, X_es2, X_prs, X_rd, X_pt))\n",
    "del X_es1, X_es2, X_prs, X_rd, X_pt"
   ]
  },
  {
   "cell_type": "markdown",
   "metadata": {
    "colab_type": "text",
    "id": "XhNEaMVvnEfz"
   },
   "source": [
    "### Categorical features"
   ]
  },
  {
   "cell_type": "code",
   "execution_count": 0,
   "metadata": {
    "colab": {},
    "colab_type": "code",
    "id": "Em_n9JSinEf0"
   },
   "outputs": [],
   "source": [
    "#Categorical Features\n",
    "def getCatFeatures(T, Col):\n",
    "    vectorizer = CountVectorizer(binary=True,\n",
    "                                 ngram_range=(1,1),\n",
    "                                 tokenizer=lambda x:[a.strip() for a in x.split(',')])\n",
    "    return vectorizer.fit_transform(T[Col].fillna(''))\n",
    "\n",
    "X_tp = getCatFeatures(df, 'teacher_prefix')\n",
    "X_ss = getCatFeatures(df, 'school_state')\n",
    "X_pgc = getCatFeatures(df, 'project_grade_category')\n",
    "X_psc = getCatFeatures(df, 'project_subject_categories')\n",
    "X_pssc = getCatFeatures(df, 'project_subject_subcategories')\n",
    "df['Month']=str(df['Month'])\n",
    "df['Weekday']=str(df['Weekday'])\n",
    "X_month = getCatFeatures(df, 'Month')\n",
    "X_weekday = getCatFeatures(df, 'Weekday')\n",
    "\n",
    "X_cat = hstack((X_tp, X_ss, X_pgc, X_psc, X_pssc,X_month,X_weekday))\n",
    "\n",
    "del X_tp, X_ss, X_pgc, X_psc, X_pssc, X_month, X_weekday"
   ]
  },
  {
   "cell_type": "markdown",
   "metadata": {
    "colab_type": "text",
    "id": "qKJ9aRZvnEf4"
   },
   "source": [
    "### Standardize features"
   ]
  },
  {
   "cell_type": "code",
   "execution_count": 40,
   "metadata": {
    "colab": {
     "base_uri": "https://localhost:8080/",
     "height": 312
    },
    "colab_type": "code",
    "id": "R8ggWyn8sMQM",
    "outputId": "b21a2b7a-d64d-49eb-8e25-e7dc92525738"
   },
   "outputs": [
    {
     "data": {
      "text/plain": [
       "Index(['id', 'teacher_id', 'teacher_prefix', 'school_state',\n",
       "       'project_submitted_datetime', 'project_grade_category',\n",
       "       'project_subject_categories', 'project_subject_subcategories',\n",
       "       'project_title', 'project_essay_1', 'project_essay_2',\n",
       "       'project_essay_3', 'project_essay_4', 'project_resource_summary',\n",
       "       'teacher_number_of_previously_posted_projects', 'project_is_approved',\n",
       "       'Ind', 'items', 'quantity', 'price', 'total_price', 'min_quantity',\n",
       "       'min_price', 'min_total_price', 'max_quantity', 'max_price',\n",
       "       'max_total_price', 'mean_quantity', 'mean_price', 'mean_total_price',\n",
       "       'resource_description', 'Year', 'Month', 'Weekday', 'Month_Day',\n",
       "       'Weekend_Flag', 'approvedValue', 'four_essays', 'text', 'char_count',\n",
       "       'word_count', 'word_density', 'punctuation_count', 'title_word_count',\n",
       "       'upper_case_word_count', 'stopword_count', 'title_len', 'e1_len',\n",
       "       'e2_len', 'ressum_len', 'title_polarity', 'title_subjectivity',\n",
       "       'ressum_polarity', 'ressum_subjectivity', 'e1_polarity',\n",
       "       'e1_subjectivity', 'e2_polarity', 'e2_subjectivity'],\n",
       "      dtype='object')"
      ]
     },
     "execution_count": 40,
     "metadata": {
      "tags": []
     },
     "output_type": "execute_result"
    }
   ],
   "source": [
    "df.columns"
   ]
  },
  {
   "cell_type": "code",
   "execution_count": 42,
   "metadata": {
    "colab": {
     "base_uri": "https://localhost:8080/",
     "height": 222
    },
    "colab_type": "code",
    "id": "ZQmswhmnnEf5",
    "outputId": "e1dbbc74-40c5-4639-e9d7-3dd41b83970d"
   },
   "outputs": [
    {
     "data": {
      "text/html": [
       "<div>\n",
       "<style scoped>\n",
       "    .dataframe tbody tr th:only-of-type {\n",
       "        vertical-align: middle;\n",
       "    }\n",
       "\n",
       "    .dataframe tbody tr th {\n",
       "        vertical-align: top;\n",
       "    }\n",
       "\n",
       "    .dataframe thead th {\n",
       "        text-align: right;\n",
       "    }\n",
       "</style>\n",
       "<table border=\"1\" class=\"dataframe\">\n",
       "  <thead>\n",
       "    <tr style=\"text-align: right;\">\n",
       "      <th></th>\n",
       "      <th>teacher_number_of_previously_posted_projects</th>\n",
       "      <th>items</th>\n",
       "      <th>quantity</th>\n",
       "      <th>price</th>\n",
       "      <th>total_price</th>\n",
       "      <th>min_quantity</th>\n",
       "      <th>min_price</th>\n",
       "      <th>min_total_price</th>\n",
       "      <th>max_quantity</th>\n",
       "      <th>max_price</th>\n",
       "      <th>max_total_price</th>\n",
       "      <th>mean_quantity</th>\n",
       "      <th>mean_price</th>\n",
       "      <th>mean_total_price</th>\n",
       "      <th>Year</th>\n",
       "      <th>Month_Day</th>\n",
       "      <th>Weekend_Flag</th>\n",
       "      <th>approvedValue</th>\n",
       "      <th>four_essays</th>\n",
       "      <th>char_count</th>\n",
       "      <th>word_count</th>\n",
       "      <th>word_density</th>\n",
       "      <th>punctuation_count</th>\n",
       "      <th>title_word_count</th>\n",
       "      <th>upper_case_word_count</th>\n",
       "      <th>stopword_count</th>\n",
       "      <th>e1_len</th>\n",
       "      <th>e2_len</th>\n",
       "      <th>title_len</th>\n",
       "      <th>ressum_len</th>\n",
       "      <th>title_polarity</th>\n",
       "      <th>title_subjectivity</th>\n",
       "      <th>e1_polarity</th>\n",
       "      <th>e1_subjectivity</th>\n",
       "      <th>e2_polarity</th>\n",
       "      <th>e2_subjectivity</th>\n",
       "      <th>ressum_polarity</th>\n",
       "      <th>ressum_subjectivity</th>\n",
       "    </tr>\n",
       "  </thead>\n",
       "  <tbody>\n",
       "    <tr>\n",
       "      <th>0</th>\n",
       "      <td>26</td>\n",
       "      <td>2</td>\n",
       "      <td>6</td>\n",
       "      <td>299.98</td>\n",
       "      <td>899.94</td>\n",
       "      <td>3</td>\n",
       "      <td>149.99</td>\n",
       "      <td>449.97</td>\n",
       "      <td>3</td>\n",
       "      <td>149.99</td>\n",
       "      <td>449.97</td>\n",
       "      <td>3.0</td>\n",
       "      <td>149.990</td>\n",
       "      <td>449.970</td>\n",
       "      <td>2016</td>\n",
       "      <td>18</td>\n",
       "      <td>0</td>\n",
       "      <td>11102621.33</td>\n",
       "      <td>0</td>\n",
       "      <td>2080</td>\n",
       "      <td>365</td>\n",
       "      <td>5.683060</td>\n",
       "      <td>52</td>\n",
       "      <td>39</td>\n",
       "      <td>9</td>\n",
       "      <td>158</td>\n",
       "      <td>170</td>\n",
       "      <td>142</td>\n",
       "      <td>4</td>\n",
       "      <td>21</td>\n",
       "      <td>0.333333</td>\n",
       "      <td>0.666667</td>\n",
       "      <td>0.249909</td>\n",
       "      <td>0.439385</td>\n",
       "      <td>0.144444</td>\n",
       "      <td>0.300000</td>\n",
       "      <td>0.400000</td>\n",
       "      <td>0.700000</td>\n",
       "    </tr>\n",
       "    <tr>\n",
       "      <th>1</th>\n",
       "      <td>1</td>\n",
       "      <td>1</td>\n",
       "      <td>20</td>\n",
       "      <td>20.00</td>\n",
       "      <td>400.00</td>\n",
       "      <td>20</td>\n",
       "      <td>20.00</td>\n",
       "      <td>400.00</td>\n",
       "      <td>20</td>\n",
       "      <td>20.00</td>\n",
       "      <td>400.00</td>\n",
       "      <td>20.0</td>\n",
       "      <td>20.000</td>\n",
       "      <td>400.000</td>\n",
       "      <td>2017</td>\n",
       "      <td>26</td>\n",
       "      <td>0</td>\n",
       "      <td>0.00</td>\n",
       "      <td>0</td>\n",
       "      <td>1407</td>\n",
       "      <td>220</td>\n",
       "      <td>6.366516</td>\n",
       "      <td>43</td>\n",
       "      <td>31</td>\n",
       "      <td>4</td>\n",
       "      <td>85</td>\n",
       "      <td>90</td>\n",
       "      <td>100</td>\n",
       "      <td>5</td>\n",
       "      <td>12</td>\n",
       "      <td>0.300000</td>\n",
       "      <td>0.750000</td>\n",
       "      <td>0.263750</td>\n",
       "      <td>0.717500</td>\n",
       "      <td>0.111905</td>\n",
       "      <td>0.459524</td>\n",
       "      <td>0.000000</td>\n",
       "      <td>0.000000</td>\n",
       "    </tr>\n",
       "    <tr>\n",
       "      <th>2</th>\n",
       "      <td>5</td>\n",
       "      <td>1</td>\n",
       "      <td>1</td>\n",
       "      <td>469.99</td>\n",
       "      <td>469.99</td>\n",
       "      <td>1</td>\n",
       "      <td>469.99</td>\n",
       "      <td>469.99</td>\n",
       "      <td>1</td>\n",
       "      <td>469.99</td>\n",
       "      <td>469.99</td>\n",
       "      <td>1.0</td>\n",
       "      <td>469.990</td>\n",
       "      <td>469.990</td>\n",
       "      <td>2017</td>\n",
       "      <td>1</td>\n",
       "      <td>1</td>\n",
       "      <td>26350156.08</td>\n",
       "      <td>0</td>\n",
       "      <td>1552</td>\n",
       "      <td>276</td>\n",
       "      <td>5.602888</td>\n",
       "      <td>29</td>\n",
       "      <td>36</td>\n",
       "      <td>5</td>\n",
       "      <td>119</td>\n",
       "      <td>133</td>\n",
       "      <td>101</td>\n",
       "      <td>4</td>\n",
       "      <td>33</td>\n",
       "      <td>0.000000</td>\n",
       "      <td>0.000000</td>\n",
       "      <td>0.345739</td>\n",
       "      <td>0.487879</td>\n",
       "      <td>0.367857</td>\n",
       "      <td>0.614286</td>\n",
       "      <td>1.000000</td>\n",
       "      <td>0.300000</td>\n",
       "    </tr>\n",
       "    <tr>\n",
       "      <th>3</th>\n",
       "      <td>16</td>\n",
       "      <td>5</td>\n",
       "      <td>5</td>\n",
       "      <td>684.47</td>\n",
       "      <td>684.47</td>\n",
       "      <td>1</td>\n",
       "      <td>18.95</td>\n",
       "      <td>18.95</td>\n",
       "      <td>1</td>\n",
       "      <td>354.99</td>\n",
       "      <td>354.99</td>\n",
       "      <td>1.0</td>\n",
       "      <td>136.894</td>\n",
       "      <td>136.894</td>\n",
       "      <td>2016</td>\n",
       "      <td>12</td>\n",
       "      <td>0</td>\n",
       "      <td>12599720.68</td>\n",
       "      <td>0</td>\n",
       "      <td>2871</td>\n",
       "      <td>459</td>\n",
       "      <td>6.241304</td>\n",
       "      <td>94</td>\n",
       "      <td>43</td>\n",
       "      <td>26</td>\n",
       "      <td>208</td>\n",
       "      <td>197</td>\n",
       "      <td>189</td>\n",
       "      <td>10</td>\n",
       "      <td>36</td>\n",
       "      <td>0.500000</td>\n",
       "      <td>0.500000</td>\n",
       "      <td>0.162302</td>\n",
       "      <td>0.391270</td>\n",
       "      <td>0.193033</td>\n",
       "      <td>0.447744</td>\n",
       "      <td>-0.041667</td>\n",
       "      <td>0.372619</td>\n",
       "    </tr>\n",
       "    <tr>\n",
       "      <th>4</th>\n",
       "      <td>42</td>\n",
       "      <td>1</td>\n",
       "      <td>2</td>\n",
       "      <td>355.50</td>\n",
       "      <td>711.00</td>\n",
       "      <td>2</td>\n",
       "      <td>355.50</td>\n",
       "      <td>711.00</td>\n",
       "      <td>2</td>\n",
       "      <td>355.50</td>\n",
       "      <td>711.00</td>\n",
       "      <td>2.0</td>\n",
       "      <td>355.500</td>\n",
       "      <td>711.000</td>\n",
       "      <td>2016</td>\n",
       "      <td>6</td>\n",
       "      <td>1</td>\n",
       "      <td>25667613.43</td>\n",
       "      <td>0</td>\n",
       "      <td>1199</td>\n",
       "      <td>218</td>\n",
       "      <td>5.474886</td>\n",
       "      <td>17</td>\n",
       "      <td>23</td>\n",
       "      <td>1</td>\n",
       "      <td>107</td>\n",
       "      <td>80</td>\n",
       "      <td>105</td>\n",
       "      <td>9</td>\n",
       "      <td>12</td>\n",
       "      <td>0.183333</td>\n",
       "      <td>0.350000</td>\n",
       "      <td>0.407143</td>\n",
       "      <td>0.606122</td>\n",
       "      <td>0.190741</td>\n",
       "      <td>0.519136</td>\n",
       "      <td>0.000000</td>\n",
       "      <td>0.000000</td>\n",
       "    </tr>\n",
       "  </tbody>\n",
       "</table>\n",
       "</div>"
      ],
      "text/plain": [
       "   teacher_number_of_previously_posted_projects  items  quantity   price  \\\n",
       "0                                            26      2         6  299.98   \n",
       "1                                             1      1        20   20.00   \n",
       "2                                             5      1         1  469.99   \n",
       "3                                            16      5         5  684.47   \n",
       "4                                            42      1         2  355.50   \n",
       "\n",
       "   total_price  min_quantity  min_price  min_total_price  max_quantity  \\\n",
       "0       899.94             3     149.99           449.97             3   \n",
       "1       400.00            20      20.00           400.00            20   \n",
       "2       469.99             1     469.99           469.99             1   \n",
       "3       684.47             1      18.95            18.95             1   \n",
       "4       711.00             2     355.50           711.00             2   \n",
       "\n",
       "   max_price  max_total_price  mean_quantity  mean_price  mean_total_price  \\\n",
       "0     149.99           449.97            3.0     149.990           449.970   \n",
       "1      20.00           400.00           20.0      20.000           400.000   \n",
       "2     469.99           469.99            1.0     469.990           469.990   \n",
       "3     354.99           354.99            1.0     136.894           136.894   \n",
       "4     355.50           711.00            2.0     355.500           711.000   \n",
       "\n",
       "   Year  Month_Day  Weekend_Flag  approvedValue  four_essays  char_count  \\\n",
       "0  2016         18             0    11102621.33            0        2080   \n",
       "1  2017         26             0           0.00            0        1407   \n",
       "2  2017          1             1    26350156.08            0        1552   \n",
       "3  2016         12             0    12599720.68            0        2871   \n",
       "4  2016          6             1    25667613.43            0        1199   \n",
       "\n",
       "   word_count  word_density  punctuation_count  title_word_count  \\\n",
       "0         365      5.683060                 52                39   \n",
       "1         220      6.366516                 43                31   \n",
       "2         276      5.602888                 29                36   \n",
       "3         459      6.241304                 94                43   \n",
       "4         218      5.474886                 17                23   \n",
       "\n",
       "   upper_case_word_count  stopword_count  e1_len  e2_len  title_len  \\\n",
       "0                      9             158     170     142          4   \n",
       "1                      4              85      90     100          5   \n",
       "2                      5             119     133     101          4   \n",
       "3                     26             208     197     189         10   \n",
       "4                      1             107      80     105          9   \n",
       "\n",
       "   ressum_len  title_polarity  title_subjectivity  e1_polarity  \\\n",
       "0          21        0.333333            0.666667     0.249909   \n",
       "1          12        0.300000            0.750000     0.263750   \n",
       "2          33        0.000000            0.000000     0.345739   \n",
       "3          36        0.500000            0.500000     0.162302   \n",
       "4          12        0.183333            0.350000     0.407143   \n",
       "\n",
       "   e1_subjectivity  e2_polarity  e2_subjectivity  ressum_polarity  \\\n",
       "0         0.439385     0.144444         0.300000         0.400000   \n",
       "1         0.717500     0.111905         0.459524         0.000000   \n",
       "2         0.487879     0.367857         0.614286         1.000000   \n",
       "3         0.391270     0.193033         0.447744        -0.041667   \n",
       "4         0.606122     0.190741         0.519136         0.000000   \n",
       "\n",
       "   ressum_subjectivity  \n",
       "0             0.700000  \n",
       "1             0.000000  \n",
       "2             0.300000  \n",
       "3             0.372619  \n",
       "4             0.000000  "
      ]
     },
     "execution_count": 42,
     "metadata": {
      "tags": []
     },
     "output_type": "execute_result"
    }
   ],
   "source": [
    "#Numerical features\n",
    "numFeatures=['teacher_number_of_previously_posted_projects','items','quantity','price','total_price','min_quantity','min_price','min_total_price','max_quantity','max_price','max_total_price',\n",
    "             'mean_quantity','mean_price','mean_total_price','Year','Month_Day','Weekend_Flag','approvedValue','four_essays','char_count',\n",
    "             'word_count','word_density','punctuation_count','title_word_count','upper_case_word_count','stopword_count',\n",
    "             'e1_len','e2_len','title_len','ressum_len','title_polarity', 'title_subjectivity','e1_polarity', 'e1_subjectivity', 'e2_polarity',\n",
    "             'e2_subjectivity','ressum_polarity','ressum_subjectivity']\n",
    "\n",
    "df[numFeatures].head()"
   ]
  },
  {
   "cell_type": "code",
   "execution_count": 0,
   "metadata": {
    "colab": {},
    "colab_type": "code",
    "id": "JwYhNqginEf9"
   },
   "outputs": [],
   "source": [
    "from sklearn.preprocessing import StandardScaler\n",
    "X = hstack((X_txt, X_cat, StandardScaler().fit_transform(df[numFeatures].fillna(0)))).tocsr()"
   ]
  },
  {
   "cell_type": "markdown",
   "metadata": {
    "colab_type": "text",
    "id": "RYbyyLPFnEgA"
   },
   "source": [
    "### Modelling"
   ]
  },
  {
   "cell_type": "code",
   "execution_count": 0,
   "metadata": {
    "colab": {},
    "colab_type": "code",
    "id": "fXry2s7unEgC"
   },
   "outputs": [],
   "source": [
    "#Saving the combined features into an NPZ file\n",
    "from scipy import sparse\n",
    "sparse.save_npz(\"pred_X.npz\", X)"
   ]
  },
  {
   "cell_type": "code",
   "execution_count": 0,
   "metadata": {
    "colab": {},
    "colab_type": "code",
    "id": "d31GE2f9nEgH"
   },
   "outputs": [],
   "source": [
    "#SKIP above code. Uncomment this and just load here\n",
    "X = sparse.load_npz(\"pred_X.npz\")"
   ]
  },
  {
   "cell_type": "code",
   "execution_count": 0,
   "metadata": {
    "colab": {},
    "colab_type": "code",
    "id": "xdOxw85pnEgK"
   },
   "outputs": [],
   "source": [
    "x_train = X[df.index[df.Ind == 'Train'], :]\n",
    "x_test = X[df.index[df.Ind == 'Test'], :]\n",
    "\n",
    "y_train = df[df.Ind=='Train']['project_is_approved'].values\n",
    "y_test = df[df.Ind=='Test'][['id','project_is_approved']]"
   ]
  },
  {
   "cell_type": "code",
   "execution_count": 0,
   "metadata": {
    "colab": {},
    "colab_type": "code",
    "id": "s1r8cUl3nEgQ"
   },
   "outputs": [],
   "source": [
    "param_test ={'num_leaves': sp_randint(6, 50),\n",
    "             'min_child_samples': sp_randint(100, 500),\n",
    "             'min_child_weight': [1e-5, 1e-3,  1e-1, 1, 1e1, 1e3, 1e4],\n",
    "             'subsample': sp_uniform(loc=0.2, scale=0.8),\n",
    "             'colsample_bytree': sp_uniform(loc=0.4, scale=0.6),\n",
    "             'reg_alpha': [0, 1e-1, 1, 2, 10, 50, 100],\n",
    "             'reg_lambda': [0, 1e-1, 10, 20, 50, 100]}\n",
    "\n",
    "n_HP_points_to_test = 100\n",
    "\n",
    "#n_estimators is set to a \"large value\". The actual number of trees build will depend on early stopping and 5000 define only the absolute maximum\n",
    "clf = lgb.LGBMClassifier(max_depth=-1, random_state=123, silent=True, metric='None', n_jobs=-1, n_estimators=5000)\n",
    "gs = RandomizedSearchCV(\n",
    "    estimator=clf, param_distributions=param_test,\n",
    "    n_iter=n_HP_points_to_test,\n",
    "    scoring='roc_auc',\n",
    "    cv=3,\n",
    "    refit=True,\n",
    "    random_state=123,n_jobs=-1,verbose=1)\n"
   ]
  },
  {
   "cell_type": "code",
   "execution_count": null,
   "metadata": {},
   "outputs": [],
   "source": [
    "from catboost import CatBoostClassifier, Pool\n",
    "clf = CatBoostClassifier(iterations=2,\n",
    "                           depth=2,\n",
    "                           learning_rate=1,\n",
    "                           loss_function='Logloss',\n",
    "                           verbose=True)"
   ]
  },
  {
   "cell_type": "code",
   "execution_count": 0,
   "metadata": {
    "colab": {
     "base_uri": "https://localhost:8080/",
     "height": 52
    },
    "colab_type": "code",
    "id": "cLE9yDVqyfhp",
    "outputId": "8d711f68-5835-47a4-d9b3-203d97bdb1e3"
   },
   "outputs": [
    {
     "name": "stdout",
     "output_type": "stream",
     "text": [
      "Fitting 3 folds for each of 100 candidates, totalling 300 fits\n"
     ]
    },
    {
     "name": "stderr",
     "output_type": "stream",
     "text": [
      "[Parallel(n_jobs=-1)]: Using backend LokyBackend with 2 concurrent workers.\n"
     ]
    }
   ],
   "source": [
    "gs.fit(x_train, y_train)\n",
    "gs.best_estimator_"
   ]
  },
  {
   "cell_type": "code",
   "execution_count": 0,
   "metadata": {
    "colab": {},
    "colab_type": "code",
    "id": "8Oj0XlKryxQa"
   },
   "outputs": [],
   "source": [
    "lgbmModelBest = gs.best_estimator_\n",
    "lgbmModelBest"
   ]
  },
  {
   "cell_type": "code",
   "execution_count": 0,
   "metadata": {
    "colab": {},
    "colab_type": "code",
    "id": "hImkZXbpy1eE"
   },
   "outputs": [],
   "source": [
    "pred = lgbmModelBest.predict_proba(x_test)[:,1]\n",
    "results=x_test[['id']]\n",
    "results['project_is_approved']=pred\n",
    "results.to_csv(\"/content/submission_v3_lgbm.csv\",index=False)"
   ]
  }
 ],
 "metadata": {
  "colab": {
   "collapsed_sections": [],
   "name": "PredictiveDonorsCollated.ipynb",
   "provenance": []
  },
  "kernelspec": {
   "display_name": "Python 3",
   "language": "python",
   "name": "python3"
  },
  "language_info": {
   "codemirror_mode": {
    "name": "ipython",
    "version": 3
   },
   "file_extension": ".py",
   "mimetype": "text/x-python",
   "name": "python",
   "nbconvert_exporter": "python",
   "pygments_lexer": "ipython3",
   "version": "3.7.3"
  },
  "toc": {
   "base_numbering": 1,
   "nav_menu": {},
   "number_sections": true,
   "sideBar": true,
   "skip_h1_title": false,
   "title_cell": "Table of Contents",
   "title_sidebar": "Contents",
   "toc_cell": true,
   "toc_position": {},
   "toc_section_display": true,
   "toc_window_display": false
  }
 },
 "nbformat": 4,
 "nbformat_minor": 1
}
